{
 "cells": [
  {
   "cell_type": "markdown",
   "metadata": {},
   "source": [
    "# Bioimage embed\n",
    "\n",
    "Bioimage embed takes RGB images were channels could "
   ]
  },
  {
   "cell_type": "code",
   "execution_count": 80,
   "metadata": {},
   "outputs": [],
   "source": [
    "from pythae.models import AutoModel"
   ]
  },
  {
   "cell_type": "code",
   "execution_count": 92,
   "metadata": {},
   "outputs": [],
   "source": [
    "model = AutoModel.load_from_hf_hub(hf_hub_path=\"bioimagearchive/resnet50_vqvae-idr0093\")"
   ]
  },
  {
   "cell_type": "code",
   "execution_count": 94,
   "metadata": {},
   "outputs": [],
   "source": [
    "list(dir())"
   ]
  },
  {
   "cell_type": "markdown",
   "metadata": {},
   "source": [
    "I am going to try out [this](https://pythae.readthedocs.io/en/latest/pipelines/pythae.pipelines.html#:~:text=To%20launch%20a%20data%20generation) data generation pipeline"
   ]
  },
  {
   "cell_type": "code",
   "execution_count": 83,
   "metadata": {},
   "outputs": [],
   "source": [
    "from pythae.samplers import MAFSamplerConfig\n",
    "from pythae.pipelines import GenerationPipeline\n",
    "# # Retrieve the trained model\n",
    "# model = AutoModel.load_from_folder(\n",
    "#  'path/to/your/trained/model'\n",
    "# )\n",
    "my_sampler_config = MAFSamplerConfig(\n",
    "    n_made_blocks = 2,\n",
    ",\n",
    "    n_hidden_in_madt, = 3\n",
    "    hidden_sizt = 128\n",
    ")\n",
    "# Build the pipeline\n",
    "pipe = GenerationPipeline(\n",
    " model=model,\n",
    " sampler_config=my_sampler_config\n",
    ")\n",
    "# Launch data generation\n",
    "generated_samples = pipe(\n",
    " num_samples=args.num_samples,\n",
    " return_gen=True, # If false returns nothing\n",
    " train_data=train_data, # Needed to fit the sampler\n",
    " eval_data=eval_data, # Needed to fit the sampler\n",
    " training_config=BaseTrainerConfig(num_epochs=200) # TrainingConfig to use to fit the sampler\n",
    ")"
   ]
  },
  {
   "cell_type": "code",
   "execution_count": null,
   "metadata": {},
   "outputs": [],
   "source": []
  }
 ],
 "metadata": {
  "language_info": {
   "name": "python"
  }
 },
 "nbformat": 4,
 "nbformat_minor": 2
}
