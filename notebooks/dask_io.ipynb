{
 "cells": [
  {
   "cell_type": "markdown",
   "metadata": {},
   "source": [
    "# Lazy loading\n",
    "\n",
    "Let's start by loading all the images into a dask array we can easily manipulate afterwards."
   ]
  },
  {
   "cell_type": "code",
   "execution_count": 1,
   "metadata": {},
   "outputs": [],
   "source": [
    "import dask\n",
    "import dask.array as da\n",
    "from pathlib import Path\n",
    "from skimage import io\n",
    "import matplotlib.pyplot as plt"
   ]
  },
  {
   "cell_type": "code",
   "execution_count": 2,
   "metadata": {},
   "outputs": [],
   "source": [
    "DATA_DIR = Path(\"../data\")\n",
    "TEST_DIR = DATA_DIR / \"test\""
   ]
  },
  {
   "cell_type": "code",
   "execution_count": null,
   "metadata": {},
   "outputs": [],
   "source": [
    "row = 4\n",
    "col = 1\n",
    "field = 1\n",
    "plane = 1\n",
    "channel = 1\n",
    "\n",
    "pattern = f\"r{row:02d}c{col:02d}f{field:02d}p{plane:02d}-ch{channel:01d}sk1fk1fl1.tiff\"\n",
    "print(pattern)"
   ]
  },
  {
   "cell_type": "code",
   "execution_count": null,
   "metadata": {},
   "outputs": [],
   "source": [
    "image = io.imread(TEST_DIR / pattern)\n",
    "image"
   ]
  },
  {
   "cell_type": "code",
   "execution_count": 5,
   "metadata": {},
   "outputs": [],
   "source": [
    "from itertools import product\n",
    "\n",
    "n_rows = 16\n",
    "n_cols = 24\n",
    "n_fields = 4\n",
    "plane = 1\n",
    "n_channels = 3\n",
    "\n",
    "lazy_arrays = [dask.delayed(io.imread)(TEST_DIR / f\"r{row:02d}c{col:02d}f{field:02d}p{plane:02d}-ch{channel:01d}sk1fk1fl1.tiff\")\n",
    "                    for row, col, field, channel in product(range(1, n_rows + 1), range(1, n_cols + 1), range(1, n_fields + 1), range(1, n_channels + 1))]\n",
    "lazy_arrays = [da.from_delayed(x, shape=image.shape, dtype=image.dtype)\n",
    "               for x in lazy_arrays]"
   ]
  },
  {
   "cell_type": "code",
   "execution_count": null,
   "metadata": {},
   "outputs": [],
   "source": [
    "lazy_images = da.stack(lazy_arrays, axis=0)\n",
    "lazy_images"
   ]
  },
  {
   "cell_type": "code",
   "execution_count": null,
   "metadata": {},
   "outputs": [],
   "source": [
    "lazy_images = lazy_images.reshape((n_rows * n_cols * n_fields, n_channels, *image.shape))\n",
    "lazy_images"
   ]
  }
 ],
 "metadata": {
  "kernelspec": {
   "display_name": "ddls_hackathon",
   "language": "python",
   "name": "python3"
  },
  "language_info": {
   "codemirror_mode": {
    "name": "ipython",
    "version": 3
   },
   "file_extension": ".py",
   "mimetype": "text/x-python",
   "name": "python",
   "nbconvert_exporter": "python",
   "pygments_lexer": "ipython3",
   "version": "3.12.7"
  }
 },
 "nbformat": 4,
 "nbformat_minor": 2
}
